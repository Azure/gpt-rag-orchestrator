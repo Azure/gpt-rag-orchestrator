{
 "cells": [
  {
   "cell_type": "code",
   "execution_count": null,
   "id": "03320e14",
   "metadata": {},
   "outputs": [],
   "source": [
    "import requests\n",
    "import json"
   ]
  },
  {
   "cell_type": "code",
   "execution_count": null,
   "id": "7518f2df",
   "metadata": {},
   "outputs": [],
   "source": [
    "url = \"http://localhost:9000/orchestrator\"\n",
    "\n",
    "post = {\n",
    "    \"ask\" : \"Microsoft\",\n",
    "    \"user-context\" : json.dumps({\n",
    "        \"user_id\": \"12345\",\n",
    "        \"user_name\": \"test_user\",\n",
    "        \"user_email\": \"\"\n",
    "    })\n",
    "}\n",
    "\n",
    "headers = {\n",
    "    \"Content-Type\": \"application/json\",\n",
    "    \"X-API-KEY\": \"1234567890\"\n",
    "}\n",
    "\n",
    "response = requests.post(url, json=post, headers=headers)\n",
    "\n",
    "if response.status_code == 200:\n",
    "    print(\"Response from orchestrator:\")\n",
    "    print(response.content.decode('utf-8'))\n",
    "else:\n",
    "    print(f\"Failed to get a valid response. Status code: {response.status_code}\")\n",
    "    print(\"Response content:\", response.content.decode('utf-8'))"
   ]
  }
 ],
 "metadata": {
  "kernelspec": {
   "display_name": ".venv",
   "language": "python",
   "name": "python3"
  },
  "language_info": {
   "codemirror_mode": {
    "name": "ipython",
    "version": 3
   },
   "file_extension": ".py",
   "mimetype": "text/x-python",
   "name": "python",
   "nbconvert_exporter": "python",
   "pygments_lexer": "ipython3",
   "version": "3.11.9"
  }
 },
 "nbformat": 4,
 "nbformat_minor": 5
}
